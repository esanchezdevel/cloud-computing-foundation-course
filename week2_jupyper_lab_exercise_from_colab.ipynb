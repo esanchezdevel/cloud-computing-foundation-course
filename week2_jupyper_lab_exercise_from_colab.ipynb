{
  "cells": [
    {
      "cell_type": "markdown",
      "metadata": {
        "id": "view-in-github",
        "colab_type": "text"
      },
      "source": [
        "<a href=\"https://colab.research.google.com/github/esanchezdevel/cloud-computing-foundation-course/blob/main/week2_jupyper_lab_exercise_from_colab.ipynb\" target=\"_parent\"><img src=\"https://colab.research.google.com/assets/colab-badge.svg\" alt=\"Open In Colab\"/></a>"
      ]
    },
    {
      "cell_type": "markdown",
      "metadata": {
        "id": "lY_LID0BYBli"
      },
      "source": [
        "## Practice Markdown"
      ]
    },
    {
      "cell_type": "markdown",
      "metadata": {
        "id": "QSiTY9noYBlk"
      },
      "source": [
        "This notebook lets you experiment with producing repeatable technical documentation.  Use this notebook to do the following actions:\n",
        "\n",
        "* Create a code cell and print a Python Hello World statement:  `print(\"hello world\")`\n",
        "* Create a Markdown Cell and add a Title using `#` and then a statement using plain text.  You can looks at the source code for this cell to get an idea of how to use Markdown.\n",
        "* Take some ideas from the [Master Markdown Github Guide](https://guides.github.com/features/mastering-markdown/) and implement them here.\n",
        "* Download this notebook as a `.ipynb` file and check into a Github Project.  You can [see an example here](https://github.com/noahgift/duke-coursera-ccf-lab1/blob/main/Practice-Markdown.ipynb).\n",
        "* Open your notebook in Google Colab and save it into the same Github Project.  You can [see an example here](https://github.com/noahgift/duke-coursera-ccf-lab1/blob/main/Practice_Markdown_with_colab.ipynb).\n"
      ]
    },
    {
      "cell_type": "code",
      "execution_count": null,
      "metadata": {
        "id": "I61iiVncYBlm",
        "outputId": "7be58948-2ac1-40ea-e688-e395578c502b"
      },
      "outputs": [
        {
          "name": "stdout",
          "output_type": "stream",
          "text": [
            "hello world\n"
          ]
        }
      ],
      "source": [
        "print(\"hello world\")"
      ]
    },
    {
      "cell_type": "markdown",
      "metadata": {
        "id": "AqCOQJLIYBln"
      },
      "source": [
        "# This is a title\n",
        "This is an statement in plain text.\n",
        "\n",
        "## This is similar to an h2 title\n",
        "Now a bit of text with some things like **bold text** and ~~strikethrough text~~ \n",
        "\n",
        "### And this is similar to an h3 title\n",
        "This is * *italic text* *\n",
        "\n",
        "> This is a special quote\n",
        "\n",
        "### This is a code block\n",
        "```\n",
        "cd my_directory\n",
        "ls\n",
        "```"
      ]
    }
  ],
  "metadata": {
    "kernelspec": {
      "display_name": "Python 3",
      "language": "python",
      "name": "python3"
    },
    "language_info": {
      "codemirror_mode": {
        "name": "ipython",
        "version": 3
      },
      "file_extension": ".py",
      "mimetype": "text/x-python",
      "name": "python",
      "nbconvert_exporter": "python",
      "pygments_lexer": "ipython3",
      "version": "3.7.6"
    },
    "colab": {
      "name": "week2_jupyper_lab_exercise_from_colab.ipynb",
      "provenance": [],
      "include_colab_link": true
    }
  },
  "nbformat": 4,
  "nbformat_minor": 0
}